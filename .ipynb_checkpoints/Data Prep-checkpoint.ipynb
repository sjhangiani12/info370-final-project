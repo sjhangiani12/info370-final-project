{
 "cells": [
  {
   "cell_type": "markdown",
   "metadata": {},
   "source": [
    "### Info about the data\n",
    "* Originial File in the form of Sqlite (1.8 Million rows)\n",
    "* Contains data for Years 1992 - 2015\n",
    "* We subsetted only California fire data for ease of loading (and github large file constraints)\n",
    "* Saved data to new file california_fires.csv (feel free to subset even further)\n",
    "* Load ^ for analysis"
   ]
  },
  {
   "cell_type": "markdown",
   "metadata": {},
   "source": [
    "### Food for thought\n",
    "* How long does it take for a fire to get controlled? and how does this controlling duration vary by state - _controlling duration_ (new variable?)"
   ]
  },
  {
   "cell_type": "code",
   "execution_count": 65,
   "metadata": {
    "collapsed": true
   },
   "outputs": [],
   "source": [
    "import sqlite3\n",
    "import pandas as pd\n",
    "import numpy as np\n",
    "import matplotlib.pyplot as plt\n",
    "import seaborn as sns\n"
   ]
  },
  {
   "cell_type": "code",
   "execution_count": 33,
   "metadata": {},
   "outputs": [],
   "source": [
    "## ONLY run this if you need the entire dataset\n",
    "# conn = sqlite3.connect(\"data/FPA_FOD_20170508.sqlite\")\n",
    "# fires = pd.read_sql_query(\"SELECT * FROM fires\", conn)"
   ]
  },
  {
   "cell_type": "code",
   "execution_count": null,
   "metadata": {},
   "outputs": [],
   "source": []
  },
  {
   "cell_type": "code",
   "execution_count": 66,
   "metadata": {},
   "outputs": [
    {
     "name": "stderr",
     "output_type": "stream",
     "text": [
      "/anaconda/lib/python3.6/site-packages/IPython/core/interactiveshell.py:2698: DtypeWarning: Columns (24,25) have mixed types. Specify dtype option on import or set low_memory=False.\n",
      "  interactivity=interactivity, compiler=compiler, result=result)\n"
     ]
    }
   ],
   "source": [
    "# read the subset data\n",
    "fires = pd.read_csv('data/california_fires.csv')"
   ]
  },
  {
   "cell_type": "markdown",
   "metadata": {},
   "source": [
    "### Missing Values"
   ]
  },
  {
   "cell_type": "code",
   "execution_count": 67,
   "metadata": {},
   "outputs": [
    {
     "data": {
      "text/plain": [
       "['0% missing in DISCOVERY_DATE',\n",
       " '0% missing in DISCOVERY_DOY',\n",
       " '0% missing in FIRE_SIZE',\n",
       " '0% missing in FIRE_SIZE_CLASS',\n",
       " '0% missing in FIRE_YEAR',\n",
       " '0% missing in LATITUDE',\n",
       " '0% missing in LONGITUDE',\n",
       " '0% missing in NWCG_REPORTING_AGENCY',\n",
       " '0% missing in NWCG_REPORTING_UNIT_ID',\n",
       " '0% missing in OBJECTID',\n",
       " '0% missing in OWNER_CODE',\n",
       " '0% missing in OWNER_DESCR',\n",
       " '0% missing in SOURCE_REPORTING_UNIT',\n",
       " '0% missing in SOURCE_SYSTEM',\n",
       " '0% missing in SOURCE_SYSTEM_TYPE',\n",
       " '0% missing in STATE',\n",
       " '0% missing in STAT_CAUSE_CODE',\n",
       " '0% missing in STAT_CAUSE_DESCR',\n",
       " '0% missing in Shape',\n",
       " '0% missing in Unnamed: 0',\n",
       " '41% missing in DISCOVERY_TIME',\n",
       " '51% missing in CONT_DATE',\n",
       " '51% missing in CONT_DOY',\n",
       " '51% missing in CONT_TIME',\n",
       " '7% missing in FIRE_NAME',\n",
       " '70% missing in COUNTY',\n",
       " '70% missing in FIPS_NAME']"
      ]
     },
     "execution_count": 67,
     "metadata": {},
     "output_type": "execute_result"
    }
   ],
   "source": [
    "missing_percentage = []\n",
    "for column in fires.columns:\n",
    "    missing_percentage.append(str(int(fires[column].isna().sum()/len(fires[column])*100)) + \"% missing in \"+ column)\n",
    "missing_percentage.sort()\n",
    "missing_percentage"
   ]
  },
  {
   "cell_type": "markdown",
   "metadata": {},
   "source": [
    "## Describing missing values\n",
    "* 51% missing values in Date and Day of year of fire containment (controlled) - (COUNNT_DATE, COUNT_DOY)\n",
    "    * Could be used to calculate the duration of time spent controlling the fire\n",
    "    * Makes little sense to add random values (mean, ffil, bfill) since its Date\n",
    "    * Removing the Na rows would be appropriate considering we have a large set of data\n",
    "* 30% missing in Time of containment\n",
    "    * No big reason to add Time in our analysis yet.\n",
    "    * Could leave like this or remove the entire column\n",
    "    * Removing rows would cause unnecessary loss of data\n",
    "* \\> Unnecessary/Redundant Columns\n",
    "    * Quite a few of the columns have much significance to the analysis\n",
    "    * Dropping 7 columns (below)"
   ]
  },
  {
   "cell_type": "code",
   "execution_count": 64,
   "metadata": {},
   "outputs": [
    {
     "data": {
      "text/plain": [
       "Index(['Unnamed: 0', 'OBJECTID', 'SOURCE_SYSTEM_TYPE', 'SOURCE_SYSTEM',\n",
       "       'NWCG_REPORTING_AGENCY', 'NWCG_REPORTING_UNIT_ID',\n",
       "       'SOURCE_REPORTING_UNIT', 'FIRE_NAME', 'FIRE_YEAR', 'DISCOVERY_DATE',\n",
       "       'DISCOVERY_DOY', 'DISCOVERY_TIME', 'STAT_CAUSE_CODE',\n",
       "       'STAT_CAUSE_DESCR', 'CONT_DATE', 'CONT_DOY', 'CONT_TIME', 'FIRE_SIZE',\n",
       "       'FIRE_SIZE_CLASS', 'LATITUDE', 'LONGITUDE', 'OWNER_CODE', 'OWNER_DESCR',\n",
       "       'STATE', 'COUNTY', 'FIPS_NAME', 'Shape'],\n",
       "      dtype='object')"
      ]
     },
     "execution_count": 64,
     "metadata": {},
     "output_type": "execute_result"
    }
   ],
   "source": [
    "fires.columns"
   ]
  },
  {
   "cell_type": "code",
   "execution_count": 51,
   "metadata": {},
   "outputs": [],
   "source": [
    "## These columns already removed in california_wildifire.csv \n",
    "# # Remove redundant columns with high missing values\n",
    "# fires = fires.drop(columns=['LOCAL_FIRE_REPORT_ID', 'FIRE_CODE', 'MTBS_ID', 'MTBS_FIRE_NAME', \n",
    "#                     'ICS_209_INCIDENT_NUMBER', 'ICS_209_NAME', 'COMPLEX_NAME','FOD_ID', \n",
    "#                     'FPA_ID','NWCG_REPORTING_UNIT_NAME', 'SOURCE_REPORTING_UNIT_NAME',\n",
    "#                    'LOCAL_FIRE_REPORT_ID', 'LOCAL_INCIDENT_ID','FIPS_CODE'])"
   ]
  },
  {
   "cell_type": "markdown",
   "metadata": {},
   "source": [
    "### Further analysis - Distribution of missing contained date and time values\n",
    "* Texas and California have the maximum number of recorded wildfires AND also the maximum number of missing values\n",
    "* The missinng value perccentage of contained date and time (though 23% for the entire dataset) rise to 40% in California and 80% in Texas. \n",
    "* Should we still delete these rows considering we have a large set of data (1.8 mil in total)"
   ]
  },
  {
   "cell_type": "code",
   "execution_count": 68,
   "metadata": {
    "collapsed": true
   },
   "outputs": [],
   "source": [
    "no_time_fires = fires[fires['CONT_TIME'].isnull()]\n",
    "no_date_fires = fires[fires['CONT_DATE'].isnull()]"
   ]
  },
  {
   "cell_type": "code",
   "execution_count": 54,
   "metadata": {},
   "outputs": [],
   "source": [
    "# sns.set(style=\"whitegrid\")\n",
    "# g = sns.countplot(pd.Series(no_date_fires.STATE), order = pd.Series(no_date_fires.STATE).value_counts().index).set_title('Missing Values of CONT_DATE by State')\n",
    "# g.figure.set_size_inches(18.5, 10.5)\n",
    "# sns.plt.show()"
   ]
  },
  {
   "cell_type": "markdown",
   "metadata": {},
   "source": [
    "### Missing values over different years.\n",
    "Maybe pick values for years based on least missing values."
   ]
  },
  {
   "cell_type": "code",
   "execution_count": 57,
   "metadata": {},
   "outputs": [
    {
     "name": "stderr",
     "output_type": "stream",
     "text": [
      "/anaconda/lib/python3.6/site-packages/seaborn/categorical.py:1428: FutureWarning: remove_na is deprecated and is a private function. Do not use.\n",
      "  stat_data = remove_na(group_data)\n"
     ]
    },
    {
     "data": {
      "image/png": "[encoded data removed]",
      "text/plain": [
       "<matplotlib.figure.Figure at 0x1de861b00>"
      ]
     },
     "metadata": {},
     "output_type": "display_data"
    }
   ],
   "source": [
    "sns.set(style=\"whitegrid\")\n",
    "g = sns.countplot(pd.Series(no_date_fires.FIRE_YEAR), order = pd.Series(no_date_fires.FIRE_YEAR).value_counts().index).set_title('Missing Values of CONT_DATE by State')\n",
    "g.figure.set_size_inches(18.5, 10.5)\n",
    "sns.plt.show()"
   ]
  },
  {
   "cell_type": "code",
   "execution_count": 58,
   "metadata": {
    "collapsed": true
   },
   "outputs": [],
   "source": [
    "# Subset to only california\n",
    "# Already done for california_fires.csv\n",
    "\n",
    "# fires = fires[fires['STATE'] == 'CA']"
   ]
  },
  {
   "cell_type": "code",
   "execution_count": 61,
   "metadata": {},
   "outputs": [
    {
     "name": "stdout",
     "output_type": "stream",
     "text": [
      "Length of data\n",
      "189550\n",
      "Columns\n",
      "Index(['Unnamed: 0', 'OBJECTID', 'SOURCE_SYSTEM_TYPE', 'SOURCE_SYSTEM',\n",
      "       'NWCG_REPORTING_AGENCY', 'NWCG_REPORTING_UNIT_ID',\n",
      "       'SOURCE_REPORTING_UNIT', 'FIRE_NAME', 'FIRE_YEAR', 'DISCOVERY_DATE',\n",
      "       'DISCOVERY_DOY', 'DISCOVERY_TIME', 'STAT_CAUSE_CODE',\n",
      "       'STAT_CAUSE_DESCR', 'CONT_DATE', 'CONT_DOY', 'CONT_TIME', 'FIRE_SIZE',\n",
      "       'FIRE_SIZE_CLASS', 'LATITUDE', 'LONGITUDE', 'OWNER_CODE', 'OWNER_DESCR',\n",
      "       'STATE', 'COUNTY', 'FIPS_NAME', 'Shape'],\n",
      "      dtype='object')\n",
      "[2005 2004 2006 2002 2007 2008 2009 1992 1993 1994 1995 1996 1997 1998 1999\n",
      " 2000 2001 2003 2010 2011 2012 2013 2014 2015]\n"
     ]
    }
   ],
   "source": [
    "# Final data here\n",
    "print(\"Length of data\")\n",
    "print(len(fires))\n",
    "print('Columns')\n",
    "print(fires.columns)\n",
    "fires.head()\n",
    "print(fires.FIRE_YEAR.unique())"
   ]
  },
  {
   "cell_type": "code",
   "execution_count": null,
   "metadata": {
    "collapsed": true
   },
   "outputs": [],
   "source": []
  },
  {
   "cell_type": "code",
   "execution_count": 46,
   "metadata": {
    "collapsed": true
   },
   "outputs": [],
   "source": []
  },
  {
   "cell_type": "code",
   "execution_count": null,
   "metadata": {
    "collapsed": true
   },
   "outputs": [],
   "source": []
  },
  {
   "cell_type": "code",
   "execution_count": null,
   "metadata": {
    "collapsed": true
   },
   "outputs": [],
   "source": []
  },
  {
   "cell_type": "code",
   "execution_count": null,
   "metadata": {
    "collapsed": true
   },
   "outputs": [],
   "source": []
  },
  {
   "cell_type": "markdown",
   "metadata": {},
   "source": [
    "### Histogram of total Fire occurances by state"
   ]
  },
  {
   "cell_type": "code",
   "execution_count": 125,
   "metadata": {},
   "outputs": [
    {
     "name": "stderr",
     "output_type": "stream",
     "text": [
      "/anaconda/lib/python3.6/site-packages/seaborn/categorical.py:1428: FutureWarning: remove_na is deprecated and is a private function. Do not use.\n",
      "  stat_data = remove_na(group_data)\n"
     ]
    },
    {
     "data": {
      "image/png": "[encoded data removed]",
      "text/plain": [
       "<matplotlib.figure.Figure at 0x117b3fef0>"
      ]
     },
     "metadata": {},
     "output_type": "display_data"
    }
   ],
   "source": [
    "\n",
    "sns.set(style=\"whitegrid\")\n",
    "g = sns.countplot(pd.Series(fires.STATE), order = pd.Series(fires.STATE).value_counts().index)\n",
    "g.figure.set_size_inches(18.5, 10.5)\n",
    "sns.plt.show()"
   ]
  },
  {
   "cell_type": "markdown",
   "metadata": {},
   "source": [
    "### Mean FIRE_SIZE by State "
   ]
  },
  {
   "cell_type": "code",
   "execution_count": null,
   "metadata": {
    "collapsed": true
   },
   "outputs": [],
   "source": [
    "# NOTE : Takes really long to load\n",
    "# by_state = fires.groupby(['STATE'], as_index=False).mean()\n",
    "# sns.set(style=\"whitegrid\")\n",
    "# g = sns.barplot(x=\"STATE\", y=\"FIRE_SIZE\", data=by_state )\n",
    "# g.figure.set_size_inches(18.5, 10.5)\n",
    "# sns.plt.show()"
   ]
  }
 ],
 "metadata": {
  "kernelspec": {
   "display_name": "Python 3",
   "language": "python",
   "name": "python3"
  },
  "language_info": {
   "codemirror_mode": {
    "name": "ipython",
    "version": 3
   },
   "file_extension": ".py",
   "mimetype": "text/x-python",
   "name": "python",
   "nbconvert_exporter": "python",
   "pygments_lexer": "ipython3",
   "version": "3.6.1"
  }
 },
 "nbformat": 4,
 "nbformat_minor": 2
}
